{
  "metadata": {
    "kernelspec": {
      "name": "python",
      "display_name": "Python (Pyodide)",
      "language": "python"
    },
    "language_info": {
      "codemirror_mode": {
        "name": "python",
        "version": 3
      },
      "file_extension": ".py",
      "mimetype": "text/x-python",
      "name": "python",
      "nbconvert_exporter": "python",
      "pygments_lexer": "ipython3",
      "version": "3.8"
    },
    "vscode": {
      "interpreter": {
        "hash": "44e7e1b8fa2096bd5707ed7fd18b1724a2db25f4c565a7673f8b6e7bfc49d25d"
      }
    }
  },
  "nbformat_minor": 4,
  "nbformat": 4,
  "cells": [
    {
      "cell_type": "markdown",
      "source": "<h1 align=center style=\"line-height:200%;font-family:vazir;color:#0099cc\">\n<font face=\"vazir\" color=\"#0099cc\">\nالماس\n\n</font>\n</h1>\n",
      "metadata": {},
      "attachments": {}
    },
    {
      "cell_type": "markdown",
      "source": "<p dir=rtl style=\"direction: rtl;text-align: justify;line-height:200%;font-family:vazir;font-size:medium\">\n<font face=\"vazir\" size=3>\nدر این مسئله از داده‌های یک فروشگاه الماس که شامل اطلاعات مختلف الماس‌ها (وزن به قیراط،‌ طول، عرض، ارتفاع و غیره) است استفاده خواهیم کرد و ساخت دیتاسری و دیتافریم پانداز را با همدیگر تمرین خواهیم کرد.\n\n</font>\n</p>\n",
      "metadata": {},
      "attachments": {}
    },
    {
      "cell_type": "markdown",
      "source": "<h2 align=right style=\"line-height:200%;font-family:vazir;color:#0099cc\">\n<font face=\"vazir\" color=\"#0099cc\">\nقسمت اول:\nبرش ایده‌آل\n</font>\n</h2>\n<p dir=rtl style=\"direction: rtl;text-align: justify;line-height:200%;font-family:vazir;font-size:medium\">\n<font face=\"vazir\" size=3>\nبرای بررسی کیفیت برش الماس‌ها از یک کارشناس کمک خواستیم و او کیفیت هر الماس را در یک لیست نوشته و لیست نهایی زیر را به ما تحویل داده است:\n  \n</font>\n</p>\n",
      "metadata": {},
      "attachments": {}
    },
    {
      "cell_type": "code",
      "source": "cut = ['Ideal', 'Premium', 'Premium', 'Premium', 'Premium', 'Very Good',\n       'Premium', 'Premium', 'Ideal', 'Premium', 'Good', 'Good', 'Premium', \n       'Very Good', 'Very Good', 'Good', 'Good','Very Good', 'Good', 'Good', \n       'Premium', 'Premium', 'Good', 'Good']",
      "metadata": {
        "trusted": true
      },
      "outputs": [],
      "execution_count": 19
    },
    {
      "cell_type": "markdown",
      "source": "<p dir=rtl style=\"direction: rtl;text-align: justify;line-height:200%;font-family:vazir;font-size:medium\">\n<font face=\"vazir\" size=3>\nبا استفاده از این اطلاعات، یک دیتاسری به نام <code>cut_series</code> بسازید. \n</font>\n</p>",
      "metadata": {},
      "attachments": {}
    },
    {
      "cell_type": "code",
      "source": "import pandas as pd\ncut_series = pd.Series(cut)\ncut_series ",
      "metadata": {
        "trusted": true
      },
      "outputs": [
        {
          "execution_count": 20,
          "output_type": "execute_result",
          "data": {
            "text/plain": "0         Ideal\n1       Premium\n2       Premium\n3       Premium\n4       Premium\n5     Very Good\n6       Premium\n7       Premium\n8         Ideal\n9       Premium\n10         Good\n11         Good\n12      Premium\n13    Very Good\n14    Very Good\n15         Good\n16         Good\n17    Very Good\n18         Good\n19         Good\n20      Premium\n21      Premium\n22         Good\n23         Good\ndtype: object"
          },
          "metadata": {}
        }
      ],
      "execution_count": 20
    },
    {
      "cell_type": "markdown",
      "source": "<p dir=rtl style=\"direction: rtl;text-align: justify;line-height:200%;font-family:vazir;font-size:medium\">\n<font face=\"vazir\" size=3>\nدر دیتاسری <code>cut_series</code>، کیفیت برش هر الماس ذخیره شده است. حال تعداد هر کیفیت برش را به‌شکل <b>صعودی</b> در یک دیتاسری جدید به نام <code>cut_sorted</code> ذخیره کنید. یعنی عنوان و تعداد کم‌ تعداد‌ترین نوع برش، باید در ابتدای این دیتاسری قرار بگیرد.\n</font>\n</p>\n\n<p dir=rtl style=\"direction: rtl;text-align: justify;line-height:200%;font-family:vazir;font-size:medium\">\n<font face=\"vazir\" size=3>\n<span style=\"color:green\"><b>راهنمایی:</b></span>\nبرای ساخت این دیتاسری، باید از یکی از توابع معرفی‌شده در درسنامه‌ی «بررسی دیتافریم» استفاده کنید.\n</font>\n</p>",
      "metadata": {},
      "attachments": {}
    },
    {
      "cell_type": "code",
      "source": "cut_counts = cut_series.value_counts()\ncut_series=cut_counts.sort_values()\ncut_series",
      "metadata": {
        "trusted": true
      },
      "outputs": [
        {
          "execution_count": 22,
          "output_type": "execute_result",
          "data": {
            "text/plain": "Ideal         2\nVery Good     4\nGood          8\nPremium      10\nName: count, dtype: int64"
          },
          "metadata": {}
        }
      ],
      "execution_count": 22
    },
    {
      "cell_type": "markdown",
      "source": "<h2 align=right style=\"line-height:200%;font-family:vazir;color:#0099cc\">\n<font face=\"vazir\" color=\"#0099cc\">\nقسمت دوم:\nقیراط الماس‌ها\n</font>\n</h2>\n<p dir=rtl style=\"direction: rtl;text-align: right;line-height:200%;font-family:vazir;font-size:medium\">\n<font face=\"vazir\" size=3>\n با استفاده از ترازو الماس‌ها را وزن کرده و حاصل را در لیست زیر قرار داده‌ایم.\n</font>\n</p>\n",
      "metadata": {},
      "attachments": {}
    },
    {
      "cell_type": "code",
      "source": "carat = [1.07, 1.19, 1.19, 1.2, 1.2, 1.25, 1.2, 1.2, 1.2,\n         1.14, 1.01, 1.01, 1.01, 1.02, 1.01, 1.01, 1.01, \n         1.01, 1.01, 1.01, 1.01, 1.01, 1.0, 1.0]",
      "metadata": {
        "trusted": true
      },
      "outputs": [],
      "execution_count": 23
    },
    {
      "cell_type": "markdown",
      "source": "<p dir=rtl style=\"direction: rtl;text-align: justify;line-height:200%;font-family:vazir;font-size:medium\">\n<font face=\"vazir\" size=3>\nبا استفاده از این اطلاعات، یک دیتاسری به نام <code>carat_series</code> بسازید.\n\n</font>\n</p>\n",
      "metadata": {}
    },
    {
      "cell_type": "code",
      "source": "carat_series = pd.Series(carat)\ncarat_series",
      "metadata": {
        "trusted": true
      },
      "outputs": [
        {
          "execution_count": 24,
          "output_type": "execute_result",
          "data": {
            "text/plain": "0     1.07\n1     1.19\n2     1.19\n3     1.20\n4     1.20\n5     1.25\n6     1.20\n7     1.20\n8     1.20\n9     1.14\n10    1.01\n11    1.01\n12    1.01\n13    1.02\n14    1.01\n15    1.01\n16    1.01\n17    1.01\n18    1.01\n19    1.01\n20    1.01\n21    1.01\n22    1.00\n23    1.00\ndtype: float64"
          },
          "metadata": {}
        }
      ],
      "execution_count": 24
    },
    {
      "cell_type": "markdown",
      "source": "<p dir=rtl style=\"direction: rtl;text-align: justify;line-height:200%;font-family:vazir;font-size:medium\">\n<font face=\"vazir\" size=3>\nدر فصل نامپای با صدک‌ها آشنا شدید. صدک هفتاد و پنجم این دیتاسری را محاسبه کنید و در متغیر <code>carat_75</code> ذخیره کنید.\n</font>\n</p>\n",
      "metadata": {}
    },
    {
      "cell_type": "code",
      "source": "import numpy as np\ncarat_75 = carat_series.quantile(0.75)\ncarat_75",
      "metadata": {
        "trusted": true
      },
      "outputs": [
        {
          "execution_count": 33,
          "output_type": "execute_result",
          "data": {
            "text/plain": "1.1925"
          },
          "metadata": {}
        }
      ],
      "execution_count": 33
    },
    {
      "cell_type": "markdown",
      "source": "<h2 align=right style=\"line-height:200%;font-family:vazir;color:#0099cc\">\n<font face=\"vazir\" color=\"#0099cc\">\nقسمت سوم:\nابعاد الماس\n</font>\n</h2>\n<p dir=rtl style=\"direction: rtl;text-align: justify;line-height:200%;font-family:vazir;font-size:medium\">\n<font face=\"vazir\" size=3>\nدر این مرحله از یک کارشناس دیگر خواستیم که الماس‌ها را اندازه‌گیری کند و او یک آرایه‌ی نامپای به ما تحویل داده است.\n<br>\nیکی از راه‌های ذخیره‌سازی آرایه‌ی نامپای، استفاده از فرمت ذخیره‌سازی <code>npz</code> است. در این فایل می‌توان هر تعداد آرایه‌ی نامپای را ذخیره کرد و بعد با استفاده از نام آرایه‌ها، آرایه‌ی مورد نظر را از فایل بیرون کشید. برای آشنایی بیشتر با این فرمت می‌توانید\n<a href=\"https://stackoverflow.com/questions/54238670/what-is-the-advantage-of-saving-npz-files-instead-of-npy-in-python-regard\"> \n این لینک\n</a>\n را مطالعه کنید. \n<br>\nچون نحوه‌ی استفاده این فایل را برای شما توضیح نداده‌ایم، کد خواندن این فایل و سپس بیرون کشیدن آرایه‌ی <code>sizes</code> از آن را در سلول زیر برای شما نوشته‌ایم. آرایه‌ی حاصل در متغیری به نام <code>sizes_array</code> ذخیره می‌شود. \n \n</font>\n</p>\n",
      "metadata": {},
      "attachments": {}
    },
    {
      "cell_type": "code",
      "source": "import numpy as np\n\nsizes = np.load('sizes.npz', allow_pickle=True)\nsizes_array = sizes['sizes']\nsizes_array",
      "metadata": {
        "trusted": true
      },
      "outputs": [
        {
          "execution_count": 35,
          "output_type": "execute_result",
          "data": {
            "text/plain": "array([[6.46, 6.42, 4.09],\n       [6.87, 6.84, 4.17],\n       [6.73, 6.66, 4.2],\n       [6.77, 6.72, 4.22],\n       [6.77, 6.72, 4.22],\n       [6.86, 6.9, 4.27],\n       [6.93, 6.8, 4.24],\n       [6.86, 6.74, 4.21],\n       [6.73, 6.68, 4.24],\n       [6.76, 6.72, 4.13],\n       [6.19, 6.23, 4.05],\n       [6.48, 6.5, 3.79],\n       [6.46, 6.41, 3.94],\n       [6.34, 6.41, 4.06],\n       [6.35, 6.3, 4.0],\n       [6.35, 6.3, 4.02],\n       [6.37, 6.31, 4.05],\n       [6.39, 6.34, 4.02],\n       [6.4, 6.32, 4.05],\n       [6.58, 6.53, 3.77],\n       [6.46, 6.37, 3.92],\n       [6.44, 6.38, 3.95],\n       [6.33, 6.38, 4.01],\n       [6.27, 6.31, 3.99]], dtype=object)"
          },
          "metadata": {}
        }
      ],
      "execution_count": 35
    },
    {
      "cell_type": "markdown",
      "source": "\n<p dir=rtl style=\"direction: rtl;text-align: right;line-height:200%;font-family:vazir;font-size:medium\">\n<font face=\"vazir\" size=3>\n آرایه‌ی <code>sizes_array</code> دارای سه ستون است. در ستون اول طول، در ستون دوم عرض و در ستون سوم ارتفاع الماس‌ها ذخیره شده است. \n <br>\nبا استفاده از این آرایه، یک دیتافریم به نام <code>sizes_df</code> بسازید و نام ستون‌های آن را برابر <code>x</code> , <code>y</code> , <code>z</code> قرار دهید. (اولین ستون <code>x</code> نام دارد).\n </font>\n</p>\n",
      "metadata": {},
      "attachments": {}
    },
    {
      "cell_type": "code",
      "source": "sizes_df = pd.DataFrame(sizes_array, columns = [\"x\", \"y\", \"z\"])\nsizes_df",
      "metadata": {
        "trusted": true
      },
      "outputs": [
        {
          "execution_count": 36,
          "output_type": "execute_result",
          "data": {
            "text/plain": "       x     y     z\n0   6.46  6.42  4.09\n1   6.87  6.84  4.17\n2   6.73  6.66   4.2\n3   6.77  6.72  4.22\n4   6.77  6.72  4.22\n5   6.86   6.9  4.27\n6   6.93   6.8  4.24\n7   6.86  6.74  4.21\n8   6.73  6.68  4.24\n9   6.76  6.72  4.13\n10  6.19  6.23  4.05\n11  6.48   6.5  3.79\n12  6.46  6.41  3.94\n13  6.34  6.41  4.06\n14  6.35   6.3   4.0\n15  6.35   6.3  4.02\n16  6.37  6.31  4.05\n17  6.39  6.34  4.02\n18   6.4  6.32  4.05\n19  6.58  6.53  3.77\n20  6.46  6.37  3.92\n21  6.44  6.38  3.95\n22  6.33  6.38  4.01\n23  6.27  6.31  3.99",
            "text/html": "<div>\n<style scoped>\n    .dataframe tbody tr th:only-of-type {\n        vertical-align: middle;\n    }\n\n    .dataframe tbody tr th {\n        vertical-align: top;\n    }\n\n    .dataframe thead th {\n        text-align: right;\n    }\n</style>\n<table border=\"1\" class=\"dataframe\">\n  <thead>\n    <tr style=\"text-align: right;\">\n      <th></th>\n      <th>x</th>\n      <th>y</th>\n      <th>z</th>\n    </tr>\n  </thead>\n  <tbody>\n    <tr>\n      <th>0</th>\n      <td>6.46</td>\n      <td>6.42</td>\n      <td>4.09</td>\n    </tr>\n    <tr>\n      <th>1</th>\n      <td>6.87</td>\n      <td>6.84</td>\n      <td>4.17</td>\n    </tr>\n    <tr>\n      <th>2</th>\n      <td>6.73</td>\n      <td>6.66</td>\n      <td>4.2</td>\n    </tr>\n    <tr>\n      <th>3</th>\n      <td>6.77</td>\n      <td>6.72</td>\n      <td>4.22</td>\n    </tr>\n    <tr>\n      <th>4</th>\n      <td>6.77</td>\n      <td>6.72</td>\n      <td>4.22</td>\n    </tr>\n    <tr>\n      <th>5</th>\n      <td>6.86</td>\n      <td>6.9</td>\n      <td>4.27</td>\n    </tr>\n    <tr>\n      <th>6</th>\n      <td>6.93</td>\n      <td>6.8</td>\n      <td>4.24</td>\n    </tr>\n    <tr>\n      <th>7</th>\n      <td>6.86</td>\n      <td>6.74</td>\n      <td>4.21</td>\n    </tr>\n    <tr>\n      <th>8</th>\n      <td>6.73</td>\n      <td>6.68</td>\n      <td>4.24</td>\n    </tr>\n    <tr>\n      <th>9</th>\n      <td>6.76</td>\n      <td>6.72</td>\n      <td>4.13</td>\n    </tr>\n    <tr>\n      <th>10</th>\n      <td>6.19</td>\n      <td>6.23</td>\n      <td>4.05</td>\n    </tr>\n    <tr>\n      <th>11</th>\n      <td>6.48</td>\n      <td>6.5</td>\n      <td>3.79</td>\n    </tr>\n    <tr>\n      <th>12</th>\n      <td>6.46</td>\n      <td>6.41</td>\n      <td>3.94</td>\n    </tr>\n    <tr>\n      <th>13</th>\n      <td>6.34</td>\n      <td>6.41</td>\n      <td>4.06</td>\n    </tr>\n    <tr>\n      <th>14</th>\n      <td>6.35</td>\n      <td>6.3</td>\n      <td>4.0</td>\n    </tr>\n    <tr>\n      <th>15</th>\n      <td>6.35</td>\n      <td>6.3</td>\n      <td>4.02</td>\n    </tr>\n    <tr>\n      <th>16</th>\n      <td>6.37</td>\n      <td>6.31</td>\n      <td>4.05</td>\n    </tr>\n    <tr>\n      <th>17</th>\n      <td>6.39</td>\n      <td>6.34</td>\n      <td>4.02</td>\n    </tr>\n    <tr>\n      <th>18</th>\n      <td>6.4</td>\n      <td>6.32</td>\n      <td>4.05</td>\n    </tr>\n    <tr>\n      <th>19</th>\n      <td>6.58</td>\n      <td>6.53</td>\n      <td>3.77</td>\n    </tr>\n    <tr>\n      <th>20</th>\n      <td>6.46</td>\n      <td>6.37</td>\n      <td>3.92</td>\n    </tr>\n    <tr>\n      <th>21</th>\n      <td>6.44</td>\n      <td>6.38</td>\n      <td>3.95</td>\n    </tr>\n    <tr>\n      <th>22</th>\n      <td>6.33</td>\n      <td>6.38</td>\n      <td>4.01</td>\n    </tr>\n    <tr>\n      <th>23</th>\n      <td>6.27</td>\n      <td>6.31</td>\n      <td>3.99</td>\n    </tr>\n  </tbody>\n</table>\n</div>"
          },
          "metadata": {}
        }
      ],
      "execution_count": 36
    },
    {
      "cell_type": "markdown",
      "source": "<h2 align=right style=\"line-height:200%;font-family:vazir;color:#0099cc\">\n<font face=\"vazir\" color=\"#0099cc\">\nقسمت چهارم:\nنمایه‌سازی\n</font>\n</h2>\n<p dir=rtl style=\"direction: rtl;text-align: justify;line-height:200%;font-family:vazir;font-size:medium\">\n<font face=\"vazir\" size=3>\n    برخلاف دنیای برنامه‌نویسان در کسب‌و‌کار الماس مرسوم نیست که شماره‌گذاری از <code>0</code> شروع شود. بنابراین نمایه‌ها را طوری تغییر دهید که از <code>1</code> شروع شوند.  \nدیتافریم جدید را در <code>sizes_new_index</code> ذخیره کنید.\n<br>\n\n</font>\n</p>\n",
      "metadata": {},
      "attachments": {}
    },
    {
      "cell_type": "code",
      "source": "%%timeit\nsizes_new_index = sizes_df.copy()\nnew_index = range(1, 25)\nsizes_new_index.index = new_index",
      "metadata": {
        "trusted": true
      },
      "outputs": [
        {
          "name": "stdout",
          "text": "143 µs ± 19.2 µs per loop (mean ± std. dev. of 7 runs, 1,000 loops each)\n",
          "output_type": "stream"
        }
      ],
      "execution_count": 41
    },
    {
      "cell_type": "markdown",
      "source": "<h2 align=right style=\"line-height:200%;font-family:vazir;color:#0099cc\">\n<font face=\"vazir\" color=\"#0099cc\">\n<b>سلول جواب‌ساز</b>\n</font>\n</h2>\n\n\n<p dir=rtl style=\"direction: rtl; text-align: justify; line-height:200%; font-family:vazir; font-size:medium\">\n<font face=\"vazir\" size=3>\n    برای ساخته‌شدن فایل <code>result.zip</code> سلول زیر را اجرا کنید. توجه داشته باشید که پیش از اجرای سلول زیر تغییرات اعمال شده در نت‌بوک را ذخیره کرده باشید (<code>ctrl+s</code>) تا در صورت نیاز به پشتیبانی امکان بررسی کد شما وجود داشته باشد.\n</font>\n</p>",
      "metadata": {},
      "attachments": {}
    },
    {
      "cell_type": "code",
      "source": "import zipfile\nimport joblib\n\ncarat_series.to_csv(\"carat_series.csv\")\ncut_sorted.to_csv(\"cut_sorted.csv\")\ncut_series.to_csv(\"cut_series.csv\")\njoblib.dump(carat_75,\"carat_75\")\nsizes_df.to_csv(\"sizes_df.csv\",index = True)\nsizes_df.to_csv(\"sizes_new_index.csv\",index = True)\n                \ndef compress(file_names):\n    print(\"File Paths:\")\n    print(file_names)\n    compression = zipfile.ZIP_DEFLATED\n    with zipfile.ZipFile(\"result.zip\", mode=\"w\") as zf:\n        for file_name in file_names:\n            zf.write('./' + file_name, file_name, compress_type=compression)\n\nfile_names = [\"cut_series.csv\", \"cut_sorted.csv\", \"carat_series.csv\",\n              \"carat_75\", \"sizes_df.csv\", \"sizes_new_index.csv\", \"diamond.ipynb\"]\ncompress(file_names)",
      "metadata": {
        "trusted": true
      },
      "outputs": [
        {
          "name": "stdout",
          "text": "File Paths:\n['cut_series.csv', 'cut_sorted.csv', 'carat_series.csv', 'carat_75', 'sizes_df.csv', 'sizes_new_index.csv', 'diamond.ipynb']\n",
          "output_type": "stream"
        }
      ],
      "execution_count": 32
    },
    {
      "cell_type": "code",
      "source": "",
      "metadata": {
        "trusted": true
      },
      "outputs": [],
      "execution_count": null
    }
  ]
}