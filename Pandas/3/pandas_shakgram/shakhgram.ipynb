{
  "metadata": {
    "kernelspec": {
      "name": "python",
      "display_name": "Python (Pyodide)",
      "language": "python"
    },
    "language_info": {
      "codemirror_mode": {
        "name": "python",
        "version": 3
      },
      "file_extension": ".py",
      "mimetype": "text/x-python",
      "name": "python",
      "nbconvert_exporter": "python",
      "pygments_lexer": "ipython3",
      "version": "3.8"
    },
    "vscode": {
      "interpreter": {
        "hash": "44e7e1b8fa2096bd5707ed7fd18b1724a2db25f4c565a7673f8b6e7bfc49d25d"
      }
    }
  },
  "nbformat_minor": 5,
  "nbformat": 4,
  "cells": [
    {
      "id": "d64d01af",
      "cell_type": "markdown",
      "source": "<h1 align=center style=\"line-height:200%;font-family:vazir;color:#0099cc\">\n<font face=\"vazir\" color=\"#0099cc\">\n    شاخگرام\n</font>\n</h1>\n",
      "metadata": {}
    },
    {
      "id": "4e177dbd-7e65-45b6-8221-1dec02f863e2",
      "cell_type": "markdown",
      "source": "<div dir=rtl id=\"start\" style=\"direction: rtl;text-align: justify;line-height:200%;font-family:vazir;font-size:medium\">\n\t<font face=\"vazir\" size=3>\nدر درسنامه‌های پیشین با ساختمان‌داده‌های پرکاربرد در پانداز آشنا شدیم. در این تمرین، قصد داریم انتخاب داده از یک دیتافریم را بیشتر تمرین کنیم.\nمجموعه‌داده‌ای که برای این تمرین در دست داریم، مربوط به یک شبکه‌ی اجتماعی فرضی به نام شاخگرام است که در آن افراد سعی می‌کنند هرچه بیشتر شاخ شوند!\n هدف اصلی این تمرین بررسی داده‌های شاخگرام و نوشتن شرط‌های گوناگون جهت فیلتر کردن شاخ‌های سطوح مختلف است.\n    </font>\n</div>",
      "metadata": {},
      "attachments": {}
    },
    {
      "id": "3934f0cc",
      "cell_type": "code",
      "source": "import pandas as pd\nimport numpy as np",
      "metadata": {
        "trusted": true
      },
      "outputs": [],
      "execution_count": 3
    },
    {
      "id": "1792e7ff",
      "cell_type": "markdown",
      "source": "<h2 align=right style=\"line-height:200%;font-family:vazir;color:#0099cc\">\n<font face=\"vazir\" color=\"#0099cc\">\nمجموعه‌داده\n</font>\n</h2>\n\n<p dir=rtl style=\"direction: rtl;text-align: justify;line-height:200%;font-family:vazir;font-size:medium\">\n<font face=\"vazir\" size=3>\nداده‌های مربوط به این تمرین در فایل <code>shakhgram.csv</code> قرار گرفته و به کمک سلول زیر می‌توانید آن را به شکل یک دیتافریم بخوانید و در متغیر <code>df</code> ذخیره کنید. این دیتافریم شامل ستون‌های زیر است:\n</font>\n</p>\n\n<center>\n<div dir=rtl style=\"direction: rtl;line-height:200%;font-family:vazir;font-size:medium\">\n<font face=\"vazir\" size=3>\n\n| نام ستون | توضیحات |\n| :---: | :---: |\n| `owner_name` | اسم صاحب پیج |\n| `follower` | تعداد دنبال‌کنندگان پیج |\n| `following` | تعداد دنبال‌شوندگان پیج |\n| `post_number` | تعداد پست‌های پیج |\n\n</font>\n</div>\n</center>",
      "metadata": {},
      "attachments": {}
    },
    {
      "id": "c5312517",
      "cell_type": "code",
      "source": "df = pd.read_csv(\"shakhgram.csv\")",
      "metadata": {
        "trusted": true
      },
      "outputs": [],
      "execution_count": 4
    },
    {
      "id": "b562fdc1-2071-47e5-8aae-eb3581aadd99",
      "cell_type": "markdown",
      "source": "<h2 align=right style=\"line-height:200%;font-family:vazir;color:#0099cc\">\n<font face=\"vazir\" color=\"#0099cc\">\n    مشاهده‌ی داده‌ها\n    </font>\n</h2>\n\n<p dir=rtl style=\"direction: rtl;text-align: justify;line-height:200%;font-family:vazir;font-size:medium\">\n<font face=\"vazir\" size=3>\nبا اجرای سلول زیر، ۵ سطر اول دیتافریم نمایش داده می‌شود تا یک نگاه کلی به داده‌ها داشته باشیم.\nپیشنهاد می‌کنیم سعی کنید ستون‌ها و سطرهای مختلفی از دیتافریم را انتخاب و مشاهده کنید تا علاوه بر این‌که با مجموعه‌داده بیشتر آشنا می‌شوید، برای پیاده‌سازی پاسخ تمرین نیز آماده‌تر شوید!\n</font>\n</p>",
      "metadata": {},
      "attachments": {}
    },
    {
      "id": "856f8d8c",
      "cell_type": "code",
      "source": "df.head()\n",
      "metadata": {
        "trusted": true
      },
      "outputs": [
        {
          "execution_count": 8,
          "output_type": "execute_result",
          "data": {
            "text/plain": "          owner_name     follower  following  post_number\n0  Muhammad Schaefer  108751787.0       45.0         61.0\n1          Ezra Kemp  172731383.0       71.0         43.0\n2           Eli Good  105194939.0       20.0         44.0\n3   Lillianna Pruitt   14807976.0       11.0         88.0\n4    Carlie Woodward  228517005.0       68.0         52.0",
            "text/html": "<div>\n<style scoped>\n    .dataframe tbody tr th:only-of-type {\n        vertical-align: middle;\n    }\n\n    .dataframe tbody tr th {\n        vertical-align: top;\n    }\n\n    .dataframe thead th {\n        text-align: right;\n    }\n</style>\n<table border=\"1\" class=\"dataframe\">\n  <thead>\n    <tr style=\"text-align: right;\">\n      <th></th>\n      <th>owner_name</th>\n      <th>follower</th>\n      <th>following</th>\n      <th>post_number</th>\n    </tr>\n  </thead>\n  <tbody>\n    <tr>\n      <th>0</th>\n      <td>Muhammad Schaefer</td>\n      <td>108751787.0</td>\n      <td>45.0</td>\n      <td>61.0</td>\n    </tr>\n    <tr>\n      <th>1</th>\n      <td>Ezra Kemp</td>\n      <td>172731383.0</td>\n      <td>71.0</td>\n      <td>43.0</td>\n    </tr>\n    <tr>\n      <th>2</th>\n      <td>Eli Good</td>\n      <td>105194939.0</td>\n      <td>20.0</td>\n      <td>44.0</td>\n    </tr>\n    <tr>\n      <th>3</th>\n      <td>Lillianna Pruitt</td>\n      <td>14807976.0</td>\n      <td>11.0</td>\n      <td>88.0</td>\n    </tr>\n    <tr>\n      <th>4</th>\n      <td>Carlie Woodward</td>\n      <td>228517005.0</td>\n      <td>68.0</td>\n      <td>52.0</td>\n    </tr>\n  </tbody>\n</table>\n</div>"
          },
          "metadata": {}
        }
      ],
      "execution_count": 8
    },
    {
      "id": "aa82e222",
      "cell_type": "markdown",
      "source": "<h2 align=right style=\"line-height:200%;font-family:vazir;color:#0099cc\">\n<font face=\"vazir\" color=\"#0099cc\">\n    قسمت اول\n    </font>\n</h2>\n\n<p dir=rtl style=\"direction: rtl;text-align: justify;line-height:200%;font-family:vazir;font-size:medium\">\n<font face=\"vazir\" size=3>\n    در این شبکه‌ی اجتماعی، ۵ دسته از شاخ‌بودن وجود دارد. برای این‌که عضو هر دسته باشیم، می‌بایست پیج و اسم ما شرایط خاصی داشته باشد.\n    <br>\n    اولین دسته‌ از شاخ‌های شاخگرام، شاخ‌های برنجی هستند؛ شاخ‌های برنجی،  افرادی هستند که تعداد افرادی که توسط پیج‌شان دنبال می‌شوند (<code>following</code>) <b>از ۱۱ کمتر</b> باشد.\n    <br>\n    در سلول زیر، بخشی از دیتافریم اصلی را که شرایط شاخ‌های برنجی دارند جدا کرده و در متغیر <code>berenji_df</code> ذخیره کنید.\n</font>\n</p>",
      "metadata": {},
      "attachments": {}
    },
    {
      "id": "f16be0eb",
      "cell_type": "code",
      "source": "berenji_df = df[df[\"following\"] < 11]\nberenji_df",
      "metadata": {
        "trusted": true
      },
      "outputs": [
        {
          "execution_count": 14,
          "output_type": "execute_result",
          "data": {
            "text/plain": "        owner_name     follower  following  post_number\n55  Dexter Salazar  265575683.0       10.0         54.0\n71     Eden Walter   50414607.0       10.0         82.0",
            "text/html": "<div>\n<style scoped>\n    .dataframe tbody tr th:only-of-type {\n        vertical-align: middle;\n    }\n\n    .dataframe tbody tr th {\n        vertical-align: top;\n    }\n\n    .dataframe thead th {\n        text-align: right;\n    }\n</style>\n<table border=\"1\" class=\"dataframe\">\n  <thead>\n    <tr style=\"text-align: right;\">\n      <th></th>\n      <th>owner_name</th>\n      <th>follower</th>\n      <th>following</th>\n      <th>post_number</th>\n    </tr>\n  </thead>\n  <tbody>\n    <tr>\n      <th>55</th>\n      <td>Dexter Salazar</td>\n      <td>265575683.0</td>\n      <td>10.0</td>\n      <td>54.0</td>\n    </tr>\n    <tr>\n      <th>71</th>\n      <td>Eden Walter</td>\n      <td>50414607.0</td>\n      <td>10.0</td>\n      <td>82.0</td>\n    </tr>\n  </tbody>\n</table>\n</div>"
          },
          "metadata": {}
        }
      ],
      "execution_count": 14
    },
    {
      "id": "77416747",
      "cell_type": "markdown",
      "source": "<h2 align=right style=\"line-height:200%;font-family:vazir;color:#0099cc\">\n<font face=\"vazir\" color=\"#0099cc\">\n    قسمت دوم\n    </font>\n</h2>\n\n<p dir=rtl style=\"direction: rtl;text-align: justify;line-height:200%;font-family:vazir;font-size:medium\">\n<font face=\"vazir\" size=3>\n    در متغیر <code>mesi_df</code>، شاخ‌های مسی را ذخیره کنید؛ شاخ‌های مسی، افرادی هستند که تعداد پست‌های پیج‌شان از تعداد افرادی که آن پیج دنبال‌شان می‌کند (<code>following</code>) بیشتر باشد.\n</font>\n</p>",
      "metadata": {},
      "attachments": {}
    },
    {
      "id": "51f5a12b",
      "cell_type": "code",
      "source": "mesi_df = df[df[\"post_number\"] > df[\"following\"]]\nmesi_df",
      "metadata": {
        "trusted": true
      },
      "outputs": [
        {
          "execution_count": 16,
          "output_type": "execute_result",
          "data": {
            "text/plain": "            owner_name     follower  following  post_number\n0    Muhammad Schaefer  108751787.0       45.0         61.0\n2             Eli Good  105194939.0       20.0         44.0\n3     Lillianna Pruitt   14807976.0       11.0         88.0\n6      Abbey Patterson  117816608.0       65.0         98.0\n8        Teagan Newman  145440825.0       39.0         85.0\n9     Bianca Velazquez  184433225.0       72.0         91.0\n10         Emely Olsen  197123487.0       43.0         58.0\n12       Ivan Randolph  233996265.0       31.0         45.0\n13      Priscilla Shea   23888252.0       69.0         72.0\n14         Ryan Berger  107802883.0       85.0         91.0\n16      Kira Castaneda  246047852.0       12.0         63.0\n17   Kadence Henderson   77927317.0       53.0         57.0\n18      Timothy Fowler  224887843.0       50.0         73.0\n19      Precious Ramos   48236154.0       34.0         76.0\n24     Charles Morales  222955873.0       12.0         38.0\n27    Hailee Armstrong  313687859.0       55.0         94.0\n29     Gabriel Calhoun  132769603.0       16.0         58.0\n39      Harper Hensley  224837846.0       57.0         59.0\n40         Alexia Moss  314936599.0       17.0         48.0\n41        Boston Stout  293331811.0       13.0         56.0\n43        Khalil Bryan  279582669.0       48.0         84.0\n44      Jakobe Schultz  136273816.0       34.0         82.0\n47       Zachery Keith   34037577.0       47.0         49.0\n49  Yasmine Hutchinson  181380421.0       13.0         98.0\n50        Marlee Moyer  224912384.0       36.0         95.0\n52        Mylie Prince  172675476.0       18.0         43.0\n54    Esmeralda Henson  240302137.0       65.0         96.0\n55      Dexter Salazar  265575683.0       10.0         54.0\n56         Jamie Oneal  252094671.0       12.0         41.0\n59        Corey Hansen   10389852.0       28.0         63.0\n62      Lilah Whitaker   95378667.0       31.0         49.0\n64       Britney James  161446658.0       41.0         93.0\n71         Eden Walter   50414607.0       10.0         82.0\n78          Kian Hanna   79265883.0       21.0         24.0\n79      Claire Salinas  239596097.0       49.0         66.0\n81          Harper Day  151388804.0       34.0         59.0\n82         Hope Becker   68662078.0       28.0         83.0\n86       Nasir Mcgrath  107737269.0       12.0         99.0\n87       Blaine Greene   17519059.0       83.0         88.0\n88        Janet Knight  137375221.0       18.0         26.0\n89        Lana Hensley  151213150.0       49.0         80.0\n90     Destiney Orozco  250085334.0       61.0         72.0\n92      Leslie Salinas  276001851.0       65.0         89.0\n94      Reyna Copeland  214443881.0       44.0         89.0\n99          Ezra Booth  296470673.0       49.0         89.0",
            "text/html": "<div>\n<style scoped>\n    .dataframe tbody tr th:only-of-type {\n        vertical-align: middle;\n    }\n\n    .dataframe tbody tr th {\n        vertical-align: top;\n    }\n\n    .dataframe thead th {\n        text-align: right;\n    }\n</style>\n<table border=\"1\" class=\"dataframe\">\n  <thead>\n    <tr style=\"text-align: right;\">\n      <th></th>\n      <th>owner_name</th>\n      <th>follower</th>\n      <th>following</th>\n      <th>post_number</th>\n    </tr>\n  </thead>\n  <tbody>\n    <tr>\n      <th>0</th>\n      <td>Muhammad Schaefer</td>\n      <td>108751787.0</td>\n      <td>45.0</td>\n      <td>61.0</td>\n    </tr>\n    <tr>\n      <th>2</th>\n      <td>Eli Good</td>\n      <td>105194939.0</td>\n      <td>20.0</td>\n      <td>44.0</td>\n    </tr>\n    <tr>\n      <th>3</th>\n      <td>Lillianna Pruitt</td>\n      <td>14807976.0</td>\n      <td>11.0</td>\n      <td>88.0</td>\n    </tr>\n    <tr>\n      <th>6</th>\n      <td>Abbey Patterson</td>\n      <td>117816608.0</td>\n      <td>65.0</td>\n      <td>98.0</td>\n    </tr>\n    <tr>\n      <th>8</th>\n      <td>Teagan Newman</td>\n      <td>145440825.0</td>\n      <td>39.0</td>\n      <td>85.0</td>\n    </tr>\n    <tr>\n      <th>9</th>\n      <td>Bianca Velazquez</td>\n      <td>184433225.0</td>\n      <td>72.0</td>\n      <td>91.0</td>\n    </tr>\n    <tr>\n      <th>10</th>\n      <td>Emely Olsen</td>\n      <td>197123487.0</td>\n      <td>43.0</td>\n      <td>58.0</td>\n    </tr>\n    <tr>\n      <th>12</th>\n      <td>Ivan Randolph</td>\n      <td>233996265.0</td>\n      <td>31.0</td>\n      <td>45.0</td>\n    </tr>\n    <tr>\n      <th>13</th>\n      <td>Priscilla Shea</td>\n      <td>23888252.0</td>\n      <td>69.0</td>\n      <td>72.0</td>\n    </tr>\n    <tr>\n      <th>14</th>\n      <td>Ryan Berger</td>\n      <td>107802883.0</td>\n      <td>85.0</td>\n      <td>91.0</td>\n    </tr>\n    <tr>\n      <th>16</th>\n      <td>Kira Castaneda</td>\n      <td>246047852.0</td>\n      <td>12.0</td>\n      <td>63.0</td>\n    </tr>\n    <tr>\n      <th>17</th>\n      <td>Kadence Henderson</td>\n      <td>77927317.0</td>\n      <td>53.0</td>\n      <td>57.0</td>\n    </tr>\n    <tr>\n      <th>18</th>\n      <td>Timothy Fowler</td>\n      <td>224887843.0</td>\n      <td>50.0</td>\n      <td>73.0</td>\n    </tr>\n    <tr>\n      <th>19</th>\n      <td>Precious Ramos</td>\n      <td>48236154.0</td>\n      <td>34.0</td>\n      <td>76.0</td>\n    </tr>\n    <tr>\n      <th>24</th>\n      <td>Charles Morales</td>\n      <td>222955873.0</td>\n      <td>12.0</td>\n      <td>38.0</td>\n    </tr>\n    <tr>\n      <th>27</th>\n      <td>Hailee Armstrong</td>\n      <td>313687859.0</td>\n      <td>55.0</td>\n      <td>94.0</td>\n    </tr>\n    <tr>\n      <th>29</th>\n      <td>Gabriel Calhoun</td>\n      <td>132769603.0</td>\n      <td>16.0</td>\n      <td>58.0</td>\n    </tr>\n    <tr>\n      <th>39</th>\n      <td>Harper Hensley</td>\n      <td>224837846.0</td>\n      <td>57.0</td>\n      <td>59.0</td>\n    </tr>\n    <tr>\n      <th>40</th>\n      <td>Alexia Moss</td>\n      <td>314936599.0</td>\n      <td>17.0</td>\n      <td>48.0</td>\n    </tr>\n    <tr>\n      <th>41</th>\n      <td>Boston Stout</td>\n      <td>293331811.0</td>\n      <td>13.0</td>\n      <td>56.0</td>\n    </tr>\n    <tr>\n      <th>43</th>\n      <td>Khalil Bryan</td>\n      <td>279582669.0</td>\n      <td>48.0</td>\n      <td>84.0</td>\n    </tr>\n    <tr>\n      <th>44</th>\n      <td>Jakobe Schultz</td>\n      <td>136273816.0</td>\n      <td>34.0</td>\n      <td>82.0</td>\n    </tr>\n    <tr>\n      <th>47</th>\n      <td>Zachery Keith</td>\n      <td>34037577.0</td>\n      <td>47.0</td>\n      <td>49.0</td>\n    </tr>\n    <tr>\n      <th>49</th>\n      <td>Yasmine Hutchinson</td>\n      <td>181380421.0</td>\n      <td>13.0</td>\n      <td>98.0</td>\n    </tr>\n    <tr>\n      <th>50</th>\n      <td>Marlee Moyer</td>\n      <td>224912384.0</td>\n      <td>36.0</td>\n      <td>95.0</td>\n    </tr>\n    <tr>\n      <th>52</th>\n      <td>Mylie Prince</td>\n      <td>172675476.0</td>\n      <td>18.0</td>\n      <td>43.0</td>\n    </tr>\n    <tr>\n      <th>54</th>\n      <td>Esmeralda Henson</td>\n      <td>240302137.0</td>\n      <td>65.0</td>\n      <td>96.0</td>\n    </tr>\n    <tr>\n      <th>55</th>\n      <td>Dexter Salazar</td>\n      <td>265575683.0</td>\n      <td>10.0</td>\n      <td>54.0</td>\n    </tr>\n    <tr>\n      <th>56</th>\n      <td>Jamie Oneal</td>\n      <td>252094671.0</td>\n      <td>12.0</td>\n      <td>41.0</td>\n    </tr>\n    <tr>\n      <th>59</th>\n      <td>Corey Hansen</td>\n      <td>10389852.0</td>\n      <td>28.0</td>\n      <td>63.0</td>\n    </tr>\n    <tr>\n      <th>62</th>\n      <td>Lilah Whitaker</td>\n      <td>95378667.0</td>\n      <td>31.0</td>\n      <td>49.0</td>\n    </tr>\n    <tr>\n      <th>64</th>\n      <td>Britney James</td>\n      <td>161446658.0</td>\n      <td>41.0</td>\n      <td>93.0</td>\n    </tr>\n    <tr>\n      <th>71</th>\n      <td>Eden Walter</td>\n      <td>50414607.0</td>\n      <td>10.0</td>\n      <td>82.0</td>\n    </tr>\n    <tr>\n      <th>78</th>\n      <td>Kian Hanna</td>\n      <td>79265883.0</td>\n      <td>21.0</td>\n      <td>24.0</td>\n    </tr>\n    <tr>\n      <th>79</th>\n      <td>Claire Salinas</td>\n      <td>239596097.0</td>\n      <td>49.0</td>\n      <td>66.0</td>\n    </tr>\n    <tr>\n      <th>81</th>\n      <td>Harper Day</td>\n      <td>151388804.0</td>\n      <td>34.0</td>\n      <td>59.0</td>\n    </tr>\n    <tr>\n      <th>82</th>\n      <td>Hope Becker</td>\n      <td>68662078.0</td>\n      <td>28.0</td>\n      <td>83.0</td>\n    </tr>\n    <tr>\n      <th>86</th>\n      <td>Nasir Mcgrath</td>\n      <td>107737269.0</td>\n      <td>12.0</td>\n      <td>99.0</td>\n    </tr>\n    <tr>\n      <th>87</th>\n      <td>Blaine Greene</td>\n      <td>17519059.0</td>\n      <td>83.0</td>\n      <td>88.0</td>\n    </tr>\n    <tr>\n      <th>88</th>\n      <td>Janet Knight</td>\n      <td>137375221.0</td>\n      <td>18.0</td>\n      <td>26.0</td>\n    </tr>\n    <tr>\n      <th>89</th>\n      <td>Lana Hensley</td>\n      <td>151213150.0</td>\n      <td>49.0</td>\n      <td>80.0</td>\n    </tr>\n    <tr>\n      <th>90</th>\n      <td>Destiney Orozco</td>\n      <td>250085334.0</td>\n      <td>61.0</td>\n      <td>72.0</td>\n    </tr>\n    <tr>\n      <th>92</th>\n      <td>Leslie Salinas</td>\n      <td>276001851.0</td>\n      <td>65.0</td>\n      <td>89.0</td>\n    </tr>\n    <tr>\n      <th>94</th>\n      <td>Reyna Copeland</td>\n      <td>214443881.0</td>\n      <td>44.0</td>\n      <td>89.0</td>\n    </tr>\n    <tr>\n      <th>99</th>\n      <td>Ezra Booth</td>\n      <td>296470673.0</td>\n      <td>49.0</td>\n      <td>89.0</td>\n    </tr>\n  </tbody>\n</table>\n</div>"
          },
          "metadata": {}
        }
      ],
      "execution_count": 16
    },
    {
      "id": "5bf37fd8-813b-4882-b8ba-b361fdc62f0e",
      "cell_type": "markdown",
      "source": "<h2 align=right style=\"line-height:200%;font-family:vazir;color:#0099cc\">\n<font face=\"vazir\" color=\"#0099cc\">\n    قسمت سوم\n    </font>\n</h2>\n\n<p dir=rtl style=\"direction: rtl;text-align: justify;line-height:200%;font-family:vazir;font-size:medium\">\n<font face=\"vazir\" size=3>\n    در متغیر <code>boronzi_df</code>، شاخ‌های برنزی را ذخیره کنید؛\n    شاخ‌های برنزی، افرادی هستند که تعداد دنبال‌کنندگان (<code>follower</code>) پیج‌شان بیشتر از یک میلیون نفر باشد.\n</font>\n</p>",
      "metadata": {},
      "attachments": {}
    },
    {
      "id": "76184e27",
      "cell_type": "code",
      "source": "boronzi_df = df[df[\"follower\"] > 1000000]\nboronzi_df",
      "metadata": {
        "tags": [],
        "trusted": true
      },
      "outputs": [
        {
          "execution_count": 17,
          "output_type": "execute_result",
          "data": {
            "text/plain": "           owner_name     follower  following  post_number\n0   Muhammad Schaefer  108751787.0       45.0         61.0\n1           Ezra Kemp  172731383.0       71.0         43.0\n2            Eli Good  105194939.0       20.0         44.0\n3    Lillianna Pruitt   14807976.0       11.0         88.0\n4     Carlie Woodward  228517005.0       68.0         52.0\n..                ...          ...        ...          ...\n95      Alaina Cortez  206571647.0       83.0         82.0\n96         Aiyana Orr  246069137.0       85.0         44.0\n97        Damien Mack  175172516.0       84.0         58.0\n98    Santino Shelton  103682240.0       86.0         71.0\n99         Ezra Booth  296470673.0       49.0         89.0\n\n[100 rows x 4 columns]",
            "text/html": "<div>\n<style scoped>\n    .dataframe tbody tr th:only-of-type {\n        vertical-align: middle;\n    }\n\n    .dataframe tbody tr th {\n        vertical-align: top;\n    }\n\n    .dataframe thead th {\n        text-align: right;\n    }\n</style>\n<table border=\"1\" class=\"dataframe\">\n  <thead>\n    <tr style=\"text-align: right;\">\n      <th></th>\n      <th>owner_name</th>\n      <th>follower</th>\n      <th>following</th>\n      <th>post_number</th>\n    </tr>\n  </thead>\n  <tbody>\n    <tr>\n      <th>0</th>\n      <td>Muhammad Schaefer</td>\n      <td>108751787.0</td>\n      <td>45.0</td>\n      <td>61.0</td>\n    </tr>\n    <tr>\n      <th>1</th>\n      <td>Ezra Kemp</td>\n      <td>172731383.0</td>\n      <td>71.0</td>\n      <td>43.0</td>\n    </tr>\n    <tr>\n      <th>2</th>\n      <td>Eli Good</td>\n      <td>105194939.0</td>\n      <td>20.0</td>\n      <td>44.0</td>\n    </tr>\n    <tr>\n      <th>3</th>\n      <td>Lillianna Pruitt</td>\n      <td>14807976.0</td>\n      <td>11.0</td>\n      <td>88.0</td>\n    </tr>\n    <tr>\n      <th>4</th>\n      <td>Carlie Woodward</td>\n      <td>228517005.0</td>\n      <td>68.0</td>\n      <td>52.0</td>\n    </tr>\n    <tr>\n      <th>...</th>\n      <td>...</td>\n      <td>...</td>\n      <td>...</td>\n      <td>...</td>\n    </tr>\n    <tr>\n      <th>95</th>\n      <td>Alaina Cortez</td>\n      <td>206571647.0</td>\n      <td>83.0</td>\n      <td>82.0</td>\n    </tr>\n    <tr>\n      <th>96</th>\n      <td>Aiyana Orr</td>\n      <td>246069137.0</td>\n      <td>85.0</td>\n      <td>44.0</td>\n    </tr>\n    <tr>\n      <th>97</th>\n      <td>Damien Mack</td>\n      <td>175172516.0</td>\n      <td>84.0</td>\n      <td>58.0</td>\n    </tr>\n    <tr>\n      <th>98</th>\n      <td>Santino Shelton</td>\n      <td>103682240.0</td>\n      <td>86.0</td>\n      <td>71.0</td>\n    </tr>\n    <tr>\n      <th>99</th>\n      <td>Ezra Booth</td>\n      <td>296470673.0</td>\n      <td>49.0</td>\n      <td>89.0</td>\n    </tr>\n  </tbody>\n</table>\n<p>100 rows × 4 columns</p>\n</div>"
          },
          "metadata": {}
        }
      ],
      "execution_count": 17
    },
    {
      "id": "e8ef45c6-0367-4e24-82c0-9ab6b97a34b2",
      "cell_type": "markdown",
      "source": "<h2 align=right style=\"line-height:200%;font-family:vazir;color:#0099cc\">\n<font face=\"vazir\" color=\"#0099cc\">\n    قسمت چهارم\n    </font>\n</h2>\n\n<p dir=rtl style=\"direction: rtl;text-align: justify;line-height:200%;font-family:vazir;font-size:medium\">\n<font face=\"vazir\" size=3>\n    در متغیر <code>noghreyee_df</code>، شاخ‌های نقره‌ای را ذخیره کنید؛ شاخ‌های نقره‌ای،‌ افرادی هستند که دو شرط زیر همزمان برای آن‌ها برقرار باشد:\n    <ol dir=rtl>\n        <li>تعداد دنبال‌کنندگان (<code>follower</code>) پیج‌شان بزرگ‌تر یا مساوی ۱۰ میلیون باشد.</li>\n        <li>تعداد دنبال‌شوندگان توسط پیج (<code>following</code>) کم‌تر از ۵۰ باشد.</li>\n    </ol>\n</font>\n</p>",
      "metadata": {},
      "attachments": {}
    },
    {
      "id": "6b8b4f92",
      "cell_type": "code",
      "source": "noghreyee_df = df[(df[\"follower\"] >= 10000000) & (df[\"following\"] < 50)]\nnoghreyee_df",
      "metadata": {
        "tags": [],
        "trusted": true
      },
      "outputs": [
        {
          "execution_count": 20,
          "output_type": "execute_result",
          "data": {
            "text/plain": "            owner_name     follower  following  post_number\n0    Muhammad Schaefer  108751787.0       45.0         61.0\n2             Eli Good  105194939.0       20.0         44.0\n3     Lillianna Pruitt   14807976.0       11.0         88.0\n8        Teagan Newman  145440825.0       39.0         85.0\n10         Emely Olsen  197123487.0       43.0         58.0\n12       Ivan Randolph  233996265.0       31.0         45.0\n16      Kira Castaneda  246047852.0       12.0         63.0\n19      Precious Ramos   48236154.0       34.0         76.0\n24     Charles Morales  222955873.0       12.0         38.0\n29     Gabriel Calhoun  132769603.0       16.0         58.0\n31          Ivy Fields  234324677.0       49.0         22.0\n32        Jaime Stuart   71774373.0       48.0         44.0\n36     Demarion Suarez   63641416.0       12.0         11.0\n40         Alexia Moss  314936599.0       17.0         48.0\n41        Boston Stout  293331811.0       13.0         56.0\n42    Chasity Cisneros  303490848.0       48.0         36.0\n43        Khalil Bryan  279582669.0       48.0         84.0\n44      Jakobe Schultz  136273816.0       34.0         82.0\n47       Zachery Keith   34037577.0       47.0         49.0\n49  Yasmine Hutchinson  181380421.0       13.0         98.0\n50        Marlee Moyer  224912384.0       36.0         95.0\n52        Mylie Prince  172675476.0       18.0         43.0\n53         Raven Stone   82717282.0       48.0         16.0\n55      Dexter Salazar  265575683.0       10.0         54.0\n56         Jamie Oneal  252094671.0       12.0         41.0\n59        Corey Hansen   10389852.0       28.0         63.0\n60     Audrina Nichols  319228713.0       41.0         15.0\n62      Lilah Whitaker   95378667.0       31.0         49.0\n64       Britney James  161446658.0       41.0         93.0\n71         Eden Walter   50414607.0       10.0         82.0\n78          Kian Hanna   79265883.0       21.0         24.0\n79      Claire Salinas  239596097.0       49.0         66.0\n81          Harper Day  151388804.0       34.0         59.0\n82         Hope Becker   68662078.0       28.0         83.0\n83      Cameron Murphy  281439342.0       22.0         17.0\n86       Nasir Mcgrath  107737269.0       12.0         99.0\n88        Janet Knight  137375221.0       18.0         26.0\n89        Lana Hensley  151213150.0       49.0         80.0\n94      Reyna Copeland  214443881.0       44.0         89.0\n99          Ezra Booth  296470673.0       49.0         89.0",
            "text/html": "<div>\n<style scoped>\n    .dataframe tbody tr th:only-of-type {\n        vertical-align: middle;\n    }\n\n    .dataframe tbody tr th {\n        vertical-align: top;\n    }\n\n    .dataframe thead th {\n        text-align: right;\n    }\n</style>\n<table border=\"1\" class=\"dataframe\">\n  <thead>\n    <tr style=\"text-align: right;\">\n      <th></th>\n      <th>owner_name</th>\n      <th>follower</th>\n      <th>following</th>\n      <th>post_number</th>\n    </tr>\n  </thead>\n  <tbody>\n    <tr>\n      <th>0</th>\n      <td>Muhammad Schaefer</td>\n      <td>108751787.0</td>\n      <td>45.0</td>\n      <td>61.0</td>\n    </tr>\n    <tr>\n      <th>2</th>\n      <td>Eli Good</td>\n      <td>105194939.0</td>\n      <td>20.0</td>\n      <td>44.0</td>\n    </tr>\n    <tr>\n      <th>3</th>\n      <td>Lillianna Pruitt</td>\n      <td>14807976.0</td>\n      <td>11.0</td>\n      <td>88.0</td>\n    </tr>\n    <tr>\n      <th>8</th>\n      <td>Teagan Newman</td>\n      <td>145440825.0</td>\n      <td>39.0</td>\n      <td>85.0</td>\n    </tr>\n    <tr>\n      <th>10</th>\n      <td>Emely Olsen</td>\n      <td>197123487.0</td>\n      <td>43.0</td>\n      <td>58.0</td>\n    </tr>\n    <tr>\n      <th>12</th>\n      <td>Ivan Randolph</td>\n      <td>233996265.0</td>\n      <td>31.0</td>\n      <td>45.0</td>\n    </tr>\n    <tr>\n      <th>16</th>\n      <td>Kira Castaneda</td>\n      <td>246047852.0</td>\n      <td>12.0</td>\n      <td>63.0</td>\n    </tr>\n    <tr>\n      <th>19</th>\n      <td>Precious Ramos</td>\n      <td>48236154.0</td>\n      <td>34.0</td>\n      <td>76.0</td>\n    </tr>\n    <tr>\n      <th>24</th>\n      <td>Charles Morales</td>\n      <td>222955873.0</td>\n      <td>12.0</td>\n      <td>38.0</td>\n    </tr>\n    <tr>\n      <th>29</th>\n      <td>Gabriel Calhoun</td>\n      <td>132769603.0</td>\n      <td>16.0</td>\n      <td>58.0</td>\n    </tr>\n    <tr>\n      <th>31</th>\n      <td>Ivy Fields</td>\n      <td>234324677.0</td>\n      <td>49.0</td>\n      <td>22.0</td>\n    </tr>\n    <tr>\n      <th>32</th>\n      <td>Jaime Stuart</td>\n      <td>71774373.0</td>\n      <td>48.0</td>\n      <td>44.0</td>\n    </tr>\n    <tr>\n      <th>36</th>\n      <td>Demarion Suarez</td>\n      <td>63641416.0</td>\n      <td>12.0</td>\n      <td>11.0</td>\n    </tr>\n    <tr>\n      <th>40</th>\n      <td>Alexia Moss</td>\n      <td>314936599.0</td>\n      <td>17.0</td>\n      <td>48.0</td>\n    </tr>\n    <tr>\n      <th>41</th>\n      <td>Boston Stout</td>\n      <td>293331811.0</td>\n      <td>13.0</td>\n      <td>56.0</td>\n    </tr>\n    <tr>\n      <th>42</th>\n      <td>Chasity Cisneros</td>\n      <td>303490848.0</td>\n      <td>48.0</td>\n      <td>36.0</td>\n    </tr>\n    <tr>\n      <th>43</th>\n      <td>Khalil Bryan</td>\n      <td>279582669.0</td>\n      <td>48.0</td>\n      <td>84.0</td>\n    </tr>\n    <tr>\n      <th>44</th>\n      <td>Jakobe Schultz</td>\n      <td>136273816.0</td>\n      <td>34.0</td>\n      <td>82.0</td>\n    </tr>\n    <tr>\n      <th>47</th>\n      <td>Zachery Keith</td>\n      <td>34037577.0</td>\n      <td>47.0</td>\n      <td>49.0</td>\n    </tr>\n    <tr>\n      <th>49</th>\n      <td>Yasmine Hutchinson</td>\n      <td>181380421.0</td>\n      <td>13.0</td>\n      <td>98.0</td>\n    </tr>\n    <tr>\n      <th>50</th>\n      <td>Marlee Moyer</td>\n      <td>224912384.0</td>\n      <td>36.0</td>\n      <td>95.0</td>\n    </tr>\n    <tr>\n      <th>52</th>\n      <td>Mylie Prince</td>\n      <td>172675476.0</td>\n      <td>18.0</td>\n      <td>43.0</td>\n    </tr>\n    <tr>\n      <th>53</th>\n      <td>Raven Stone</td>\n      <td>82717282.0</td>\n      <td>48.0</td>\n      <td>16.0</td>\n    </tr>\n    <tr>\n      <th>55</th>\n      <td>Dexter Salazar</td>\n      <td>265575683.0</td>\n      <td>10.0</td>\n      <td>54.0</td>\n    </tr>\n    <tr>\n      <th>56</th>\n      <td>Jamie Oneal</td>\n      <td>252094671.0</td>\n      <td>12.0</td>\n      <td>41.0</td>\n    </tr>\n    <tr>\n      <th>59</th>\n      <td>Corey Hansen</td>\n      <td>10389852.0</td>\n      <td>28.0</td>\n      <td>63.0</td>\n    </tr>\n    <tr>\n      <th>60</th>\n      <td>Audrina Nichols</td>\n      <td>319228713.0</td>\n      <td>41.0</td>\n      <td>15.0</td>\n    </tr>\n    <tr>\n      <th>62</th>\n      <td>Lilah Whitaker</td>\n      <td>95378667.0</td>\n      <td>31.0</td>\n      <td>49.0</td>\n    </tr>\n    <tr>\n      <th>64</th>\n      <td>Britney James</td>\n      <td>161446658.0</td>\n      <td>41.0</td>\n      <td>93.0</td>\n    </tr>\n    <tr>\n      <th>71</th>\n      <td>Eden Walter</td>\n      <td>50414607.0</td>\n      <td>10.0</td>\n      <td>82.0</td>\n    </tr>\n    <tr>\n      <th>78</th>\n      <td>Kian Hanna</td>\n      <td>79265883.0</td>\n      <td>21.0</td>\n      <td>24.0</td>\n    </tr>\n    <tr>\n      <th>79</th>\n      <td>Claire Salinas</td>\n      <td>239596097.0</td>\n      <td>49.0</td>\n      <td>66.0</td>\n    </tr>\n    <tr>\n      <th>81</th>\n      <td>Harper Day</td>\n      <td>151388804.0</td>\n      <td>34.0</td>\n      <td>59.0</td>\n    </tr>\n    <tr>\n      <th>82</th>\n      <td>Hope Becker</td>\n      <td>68662078.0</td>\n      <td>28.0</td>\n      <td>83.0</td>\n    </tr>\n    <tr>\n      <th>83</th>\n      <td>Cameron Murphy</td>\n      <td>281439342.0</td>\n      <td>22.0</td>\n      <td>17.0</td>\n    </tr>\n    <tr>\n      <th>86</th>\n      <td>Nasir Mcgrath</td>\n      <td>107737269.0</td>\n      <td>12.0</td>\n      <td>99.0</td>\n    </tr>\n    <tr>\n      <th>88</th>\n      <td>Janet Knight</td>\n      <td>137375221.0</td>\n      <td>18.0</td>\n      <td>26.0</td>\n    </tr>\n    <tr>\n      <th>89</th>\n      <td>Lana Hensley</td>\n      <td>151213150.0</td>\n      <td>49.0</td>\n      <td>80.0</td>\n    </tr>\n    <tr>\n      <th>94</th>\n      <td>Reyna Copeland</td>\n      <td>214443881.0</td>\n      <td>44.0</td>\n      <td>89.0</td>\n    </tr>\n    <tr>\n      <th>99</th>\n      <td>Ezra Booth</td>\n      <td>296470673.0</td>\n      <td>49.0</td>\n      <td>89.0</td>\n    </tr>\n  </tbody>\n</table>\n</div>"
          },
          "metadata": {}
        }
      ],
      "execution_count": 20
    },
    {
      "id": "79b40e28-7007-48b5-95b1-bd8c3e5f05ae",
      "cell_type": "markdown",
      "source": "<h2 align=right style=\"line-height:200%;font-family:vazir;color:#0099cc\">\n<font face=\"vazir\" color=\"#0099cc\">\n    قسمت پنجم\n    </font>\n</h2>\n\n<p dir=rtl style=\"direction: rtl;text-align: justify;line-height:200%;font-family:vazir;font-size:medium\">\n<font face=\"vazir\" size=3>\n        در متغیر <code>talayee_df</code>، شاخ‌های طلایی را ذخیره کنید؛\nشاخ‌های طلایی افرادی هستند که حداقل یکی از دو شرط زیر را داشته باشند (یعنی شرط اول یا شرط دوم)\n<ol dir=rtl>\n        <li>تعداد دنبال‌کنندگان (<code>follower</code>) پیج‌شان بزرگ‌تر از ۱۰ میلیون و تعداد دنبال‌شوندگان (<code>following</code>) آن‌ها کمتر از ۲۰ باشد.</li>\n        <li>تعداد پست‌های‌شان کمتر از ۱۵ باشد و حرف <code>R</code> در اسم صاحب پیج وجود داشته باشد (مثل <code dir=ltr>!BooAzaR</code>).</li>\n    </ol>\n</font>\n</p>",
      "metadata": {},
      "attachments": {}
    },
    {
      "id": "099d1ff4",
      "cell_type": "code",
      "source": "talayee_df = df[((df[\"follower\"] > 10000000) & (df[\"following\"] < 20)) |\n((df[\"post_number\"] < 15) & (df[\"owner_name\"].str.contains('R')))]\ntalayee_df",
      "metadata": {
        "trusted": true
      },
      "outputs": [
        {
          "execution_count": 33,
          "output_type": "execute_result",
          "data": {
            "text/plain": "            owner_name     follower  following  post_number\n3     Lillianna Pruitt   14807976.0       11.0         88.0\n15          Hayden Roy  248522613.0       79.0         11.0\n16      Kira Castaneda  246047852.0       12.0         63.0\n24     Charles Morales  222955873.0       12.0         38.0\n29     Gabriel Calhoun  132769603.0       16.0         58.0\n36     Demarion Suarez   63641416.0       12.0         11.0\n40         Alexia Moss  314936599.0       17.0         48.0\n41        Boston Stout  293331811.0       13.0         56.0\n49  Yasmine Hutchinson  181380421.0       13.0         98.0\n52        Mylie Prince  172675476.0       18.0         43.0\n55      Dexter Salazar  265575683.0       10.0         54.0\n56         Jamie Oneal  252094671.0       12.0         41.0\n71         Eden Walter   50414607.0       10.0         82.0\n86       Nasir Mcgrath  107737269.0       12.0         99.0\n88        Janet Knight  137375221.0       18.0         26.0",
            "text/html": "<div>\n<style scoped>\n    .dataframe tbody tr th:only-of-type {\n        vertical-align: middle;\n    }\n\n    .dataframe tbody tr th {\n        vertical-align: top;\n    }\n\n    .dataframe thead th {\n        text-align: right;\n    }\n</style>\n<table border=\"1\" class=\"dataframe\">\n  <thead>\n    <tr style=\"text-align: right;\">\n      <th></th>\n      <th>owner_name</th>\n      <th>follower</th>\n      <th>following</th>\n      <th>post_number</th>\n    </tr>\n  </thead>\n  <tbody>\n    <tr>\n      <th>3</th>\n      <td>Lillianna Pruitt</td>\n      <td>14807976.0</td>\n      <td>11.0</td>\n      <td>88.0</td>\n    </tr>\n    <tr>\n      <th>15</th>\n      <td>Hayden Roy</td>\n      <td>248522613.0</td>\n      <td>79.0</td>\n      <td>11.0</td>\n    </tr>\n    <tr>\n      <th>16</th>\n      <td>Kira Castaneda</td>\n      <td>246047852.0</td>\n      <td>12.0</td>\n      <td>63.0</td>\n    </tr>\n    <tr>\n      <th>24</th>\n      <td>Charles Morales</td>\n      <td>222955873.0</td>\n      <td>12.0</td>\n      <td>38.0</td>\n    </tr>\n    <tr>\n      <th>29</th>\n      <td>Gabriel Calhoun</td>\n      <td>132769603.0</td>\n      <td>16.0</td>\n      <td>58.0</td>\n    </tr>\n    <tr>\n      <th>36</th>\n      <td>Demarion Suarez</td>\n      <td>63641416.0</td>\n      <td>12.0</td>\n      <td>11.0</td>\n    </tr>\n    <tr>\n      <th>40</th>\n      <td>Alexia Moss</td>\n      <td>314936599.0</td>\n      <td>17.0</td>\n      <td>48.0</td>\n    </tr>\n    <tr>\n      <th>41</th>\n      <td>Boston Stout</td>\n      <td>293331811.0</td>\n      <td>13.0</td>\n      <td>56.0</td>\n    </tr>\n    <tr>\n      <th>49</th>\n      <td>Yasmine Hutchinson</td>\n      <td>181380421.0</td>\n      <td>13.0</td>\n      <td>98.0</td>\n    </tr>\n    <tr>\n      <th>52</th>\n      <td>Mylie Prince</td>\n      <td>172675476.0</td>\n      <td>18.0</td>\n      <td>43.0</td>\n    </tr>\n    <tr>\n      <th>55</th>\n      <td>Dexter Salazar</td>\n      <td>265575683.0</td>\n      <td>10.0</td>\n      <td>54.0</td>\n    </tr>\n    <tr>\n      <th>56</th>\n      <td>Jamie Oneal</td>\n      <td>252094671.0</td>\n      <td>12.0</td>\n      <td>41.0</td>\n    </tr>\n    <tr>\n      <th>71</th>\n      <td>Eden Walter</td>\n      <td>50414607.0</td>\n      <td>10.0</td>\n      <td>82.0</td>\n    </tr>\n    <tr>\n      <th>86</th>\n      <td>Nasir Mcgrath</td>\n      <td>107737269.0</td>\n      <td>12.0</td>\n      <td>99.0</td>\n    </tr>\n    <tr>\n      <th>88</th>\n      <td>Janet Knight</td>\n      <td>137375221.0</td>\n      <td>18.0</td>\n      <td>26.0</td>\n    </tr>\n  </tbody>\n</table>\n</div>"
          },
          "metadata": {}
        }
      ],
      "execution_count": 33
    },
    {
      "id": "ad56a791-6354-4597-babf-c9df1c83ca73",
      "cell_type": "markdown",
      "source": "<h2 align=right style=\"line-height:200%;font-family:vazir;color:#0099cc\">\n<font face=\"vazir\" color=\"#0099cc\">\n<b>سلول جواب‌ساز</b>\n</font>\n</h2>\n\n\n<p dir=rtl style=\"direction: rtl; text-align: justify; line-height:200%; font-family:vazir; font-size:medium\">\n<font face=\"vazir\" size=3>\n    برای ساخته‌شدن فایل <code>result.zip</code> سلول زیر را اجرا کنید. توجه داشته باشید که پیش از اجرای سلول زیر تغییرات اعمال شده در نت‌بوک را ذخیره کرده باشید (<code>ctrl+s</code>) تا در صورت نیاز به پشتیبانی امکان بررسی کد شما وجود داشته باشد.\n</font>\n</p>",
      "metadata": {},
      "attachments": {}
    },
    {
      "id": "9b01fa06",
      "cell_type": "code",
      "source": "import zlib\nimport zipfile\n\nberenji_df.to_csv('berenji.csv', index=True)\nmesi_df.to_csv('mesi.csv', index=True)\nboronzi_df.to_csv(\"boronzi.csv\", index=True)\nnoghreyee_df.to_csv(\"noghreyee.csv\", index=True)\ntalayee_df.to_csv(\"talayee.csv\", index=True)\n\ndef compress(file_names):\n    print(\"File Paths:\")\n    print(file_names)\n    compression = zipfile.ZIP_DEFLATED\n    with zipfile.ZipFile(\"result.zip\", mode=\"w\") as zf:\n        for file_name in file_names:\n            zf.write('./' + file_name, file_name, compress_type=compression)\n\nfile_names = [\"berenji.csv\", \"mesi.csv\", \"boronzi.csv\",\n              \"noghreyee.csv\", \"talayee.csv\", \"shakhgram.ipynb\"]\ncompress(file_names)",
      "metadata": {
        "trusted": true
      },
      "outputs": [
        {
          "name": "stdout",
          "text": "File Paths:\n['berenji.csv', 'mesi.csv', 'boronzi.csv', 'noghreyee.csv', 'talayee.csv', 'shakhgram.ipynb']\n",
          "output_type": "stream"
        }
      ],
      "execution_count": 34
    },
    {
      "id": "2077a2ab-0658-4cdf-a618-58fadf45f660",
      "cell_type": "code",
      "source": "",
      "metadata": {
        "trusted": true
      },
      "outputs": [],
      "execution_count": null
    }
  ]
}